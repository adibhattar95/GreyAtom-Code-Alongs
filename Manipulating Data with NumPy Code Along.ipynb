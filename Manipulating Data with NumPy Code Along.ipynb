{
 "cells": [
  {
   "cell_type": "markdown",
   "metadata": {},
   "source": [
    "# IPL Dataset Analysis\n",
    "\n",
    "## Problem Statement\n",
    "We want to know as to what happens during an IPL match which raises several questions in our mind with our limited knowledge about the game called cricket on which it is based. This analysis is done to know as which factors led one of the team to win and how does it matter."
   ]
  },
  {
   "cell_type": "markdown",
   "metadata": {},
   "source": [
    "## About the Dataset :\n",
    "The Indian Premier League (IPL) is a professional T20 cricket league in India contested during April-May of every year by teams representing Indian cities. It is the most-attended cricket league in the world and ranks sixth among all the sports leagues. It has teams with players from around the world and is very competitive and entertaining with a lot of close matches between teams.\n",
    "\n",
    "The IPL and other cricket related datasets are available at [cricsheet.org](https://cricsheet.org/%c2%a0(data). Feel free to visit the website and explore the data by yourself as exploring new sources of data is one of the interesting activities a data scientist gets to do.\n",
    "\n",
    "## About the dataset:\n",
    "Snapshot of the data you will be working on:<br>\n",
    "<br>\n",
    "The dataset 1452 data points and 23 features<br>\n",
    "\n",
    "|Features|Description|\n",
    "|-----|-----|\n",
    "|match_code|Code pertaining to individual match|\n",
    "|date|Date of the match played|\n",
    "|city|Location where the match was played|\n",
    "|team1|team1|\n",
    "|team2|team2|\n",
    "|toss_winner|Who won the toss out of two teams|\n",
    "|toss_decision|toss decision taken by toss winner|\n",
    "|winner|Winner of that match between two teams|\n",
    "|win_type|How did the team won(by wickets or runs etc.)|\n",
    "|win_margin|difference with which the team won| \n",
    "|inning|inning type(1st or 2nd)|\n",
    "|delivery|ball delivery|\n",
    "|batting_team|current team on batting|\n",
    "|batsman|current batsman on strike|\n",
    "|non_striker|batsman on non-strike|\n",
    "|bowler|Current bowler|\n",
    "|runs|runs scored|\n",
    "|extras|extra run scored|\n",
    "|total|total run scored on that delivery including runs and extras|\n",
    "|extras_type|extra run scored by wides or no ball or legby|\n",
    "|player_out|player that got out|\n",
    "|wicket_kind|How did the player got out|\n",
    "|wicket_fielders|Fielder who caught out the player by catch|\n"
   ]
  },
  {
   "cell_type": "markdown",
   "metadata": {},
   "source": [
    "### Analysing data using numpy module"
   ]
  },
  {
   "cell_type": "markdown",
   "metadata": {},
   "source": [
    "### Read the data using numpy module."
   ]
  },
  {
   "cell_type": "code",
   "execution_count": 1,
   "metadata": {},
   "outputs": [],
   "source": [
    "import numpy as np\n",
    "# Not every data format will be in csv there are other file formats also.\n",
    "# This exercise will help you deal with other file formats and how toa read it.\n",
    "path = './data/ipl_matches_small.csv'\n",
    "data_ipl = np.genfromtxt(path, delimiter=',', skip_header=1, dtype=str)\n",
    "\n"
   ]
  },
  {
   "cell_type": "code",
   "execution_count": 3,
   "metadata": {},
   "outputs": [
    {
     "data": {
      "text/plain": [
       "array(['Kolkata Knight Riders', 'Kolkata Knight Riders',\n",
       "       'Kolkata Knight Riders', ..., 'Rajasthan Royals',\n",
       "       'Rajasthan Royals', 'Rajasthan Royals'], dtype='<U21')"
      ]
     },
     "execution_count": 3,
     "metadata": {},
     "output_type": "execute_result"
    }
   ],
   "source": [
    "data_ipl[:,3]"
   ]
  },
  {
   "cell_type": "code",
   "execution_count": 9,
   "metadata": {},
   "outputs": [
    {
     "name": "stdout",
     "output_type": "stream",
     "text": [
      "The unique no. of matches in the provided dataset is 6.\n"
     ]
    }
   ],
   "source": [
    "### Calculate the unique no. of matches in the provided dataset ?\n",
    "unique = np.unique(data_ipl[:,0])\n",
    "\n",
    "print(\"The unique no. of matches in the provided dataset is {}.\".format(len(unique)))"
   ]
  },
  {
   "cell_type": "markdown",
   "metadata": {},
   "source": [
    "### Find the set of all unique teams that played in the matches in the data set."
   ]
  },
  {
   "cell_type": "code",
   "execution_count": 12,
   "metadata": {},
   "outputs": [
    {
     "name": "stdout",
     "output_type": "stream",
     "text": [
      "[['335987' 'Rajasthan Royals' 'Kings XI Punjab']\n",
      " ['392197' 'Kolkata Knight Riders' 'Mumbai Indians']\n",
      " ['392203' 'Kolkata Knight Riders' 'Mumbai Indians']\n",
      " ['392212' 'Deccan Chargers' 'Mumbai Indians']\n",
      " ['501226' 'Chennai Super Kings' 'Pune Warriors']\n",
      " ['729297' 'Rajasthan Royals' 'Chennai Super Kings']]\n"
     ]
    }
   ],
   "source": [
    "# this exercise deals with you getting to know that which are all those six teams that played in the tournament.\n",
    "unique_teams = np.unique(data_ipl[0:, [0,3,4]], axis = 0)\n",
    "unique_teams_array = np.array(unique_teams)\n",
    "print(unique_teams_array)"
   ]
  },
  {
   "cell_type": "markdown",
   "metadata": {},
   "source": [
    "### Find sum of all extras in all deliveries in all matches in the dataset"
   ]
  },
  {
   "cell_type": "code",
   "execution_count": 24,
   "metadata": {},
   "outputs": [
    {
     "name": "stdout",
     "output_type": "stream",
     "text": [
      "The sum of all extras in all deliveries in all matches in the dataset is 88.\n"
     ]
    }
   ],
   "source": [
    "# An exercise to make you familiar with indexing and slicing up within data.\n",
    "extras_sum = np.array(data_ipl[:,17], dtype = \"int8\")\n",
    "print(\"The sum of all extras in all deliveries in all matches in the dataset is {}.\".format(sum(extras_sum)))\n"
   ]
  },
  {
   "cell_type": "markdown",
   "metadata": {},
   "source": [
    "### Get the array of all delivery numbers when a given player got out. Also mention the wicket type."
   ]
  },
  {
   "cell_type": "code",
   "execution_count": 28,
   "metadata": {},
   "outputs": [
    {
     "name": "stdout",
     "output_type": "stream",
     "text": [
      "[['3.2' 'caught']\n",
      " ['5.5' 'caught']\n",
      " ['7.6' 'caught']\n",
      " ['11.4' 'bowled']\n",
      " ['15.6' 'caught']\n",
      " ['18.6' 'caught']\n",
      " ['0.4' 'bowled']\n",
      " ['2.2' 'bowled']\n",
      " ['14.5' 'caught']\n",
      " ['17.2' 'bowled']\n",
      " ['18.6' 'run out']\n",
      " ['19.3' 'caught']\n",
      " ['12.2' 'lbw']\n",
      " ['13.5' 'caught']\n",
      " ['14.4' 'caught']\n",
      " ['15.1' 'run out']\n",
      " ['16.6' 'caught']\n",
      " ['18.5' 'caught']\n",
      " ['1.7' 'caught']\n",
      " ['2.7' 'caught']\n",
      " ['10.2' 'bowled']\n",
      " ['12.1' 'caught']\n",
      " ['12.3' 'caught']\n",
      " ['13.2' 'caught']\n",
      " ['14.5' 'caught']\n",
      " ['15.1' 'bowled']\n",
      " ['15.2' 'bowled']\n",
      " ['1.5' 'caught']\n",
      " ['5.3' 'caught']\n",
      " ['9.4' 'bowled']\n",
      " ['12.6' 'bowled']\n",
      " ['17.1' 'caught']\n",
      " ['19.1' 'run out']\n",
      " ['1.4' 'caught']\n",
      " ['1.5' 'bowled']\n",
      " ['8.5' 'caught']\n",
      " ['14.1' 'caught']\n",
      " ['15.5' 'bowled']\n",
      " ['15.6' 'bowled']\n",
      " ['17.1' 'caught']\n",
      " ['17.3' 'stumped']\n",
      " ['5.3' 'caught']\n",
      " ['7.2' 'caught']\n",
      " ['8.2' 'caught']\n",
      " ['10.1' 'run out']\n",
      " ['11.1' 'caught']\n",
      " ['14.5' 'caught']\n",
      " ['1.3' 'run out']\n",
      " ['5.2' 'caught']\n",
      " ['6.4' 'caught']\n",
      " ['6.5' 'caught and bowled']\n",
      " ['10.5' 'caught']\n",
      " ['12.6' 'caught']\n",
      " ['13.3' 'caught']\n",
      " ['14.2' 'bowled']\n",
      " ['18.3' 'caught']\n",
      " ['19.5' 'run out']\n",
      " ['9.2' 'caught']\n",
      " ['9.6' 'bowled']\n",
      " ['16.4' 'stumped']\n",
      " ['17.2' 'caught']\n",
      " ['17.5' 'caught']\n",
      " ['19.6' 'caught']\n",
      " ['2.4' 'bowled']\n",
      " ['3.6' 'bowled']\n",
      " ['4.6' 'bowled']\n",
      " ['5.3' 'bowled']\n",
      " ['12.6' 'caught']\n",
      " ['18.3' 'caught']\n",
      " ['18.5' 'run out']\n",
      " ['19.1' 'run out']\n",
      " ['19.2' 'caught']\n",
      " ['4.5' 'bowled']\n",
      " ['6.3' 'caught and bowled']\n",
      " ['7.4' 'stumped']\n",
      " ['8.6' 'lbw']\n",
      " ['16.5' 'lbw']\n",
      " ['17.2' 'bowled']\n",
      " ['17.4' 'caught']\n",
      " ['18.6' 'run out']\n",
      " ['1.1' 'caught']\n",
      " ['2.3' 'caught and bowled']\n",
      " ['4.5' 'caught']\n",
      " ['11.2' 'lbw']]\n",
      "84\n"
     ]
    }
   ],
   "source": [
    "deliveries = np.array(data_ipl[:,[11,21]])\n",
    "wicket_deliveries = deliveries[deliveries[:,1] != '']\n",
    "print(wicket_deliveries)\n",
    "print(len(wicket_deliveries))"
   ]
  },
  {
   "cell_type": "markdown",
   "metadata": {},
   "source": [
    "### How many matches the team `Mumbai Indians` has won the toss?"
   ]
  },
  {
   "cell_type": "code",
   "execution_count": 31,
   "metadata": {},
   "outputs": [
    {
     "name": "stdout",
     "output_type": "stream",
     "text": [
      "Mumbai Indians won the toss 2 times.\n"
     ]
    }
   ],
   "source": [
    "# this exercise will help you get the statistics on one particular team\n",
    "toss_winners = np.array(data_ipl[:,[0,5]])\n",
    "toss_winners_unique = np.unique(toss_winners, axis = 0)\n",
    "mumbai_toss = toss_winners_unique[toss_winners_unique[:,1] == \"Mumbai Indians\"]\n",
    "print(\"Mumbai Indians won the toss {} times.\".format(len(mumbai_toss)))\n"
   ]
  },
  {
   "cell_type": "markdown",
   "metadata": {},
   "source": [
    "### Create a filter that filters only those records where the batsman scored 6 runs. Also who has scored the maximum no. of sixes overall ?"
   ]
  },
  {
   "cell_type": "code",
   "execution_count": 67,
   "metadata": {},
   "outputs": [
    {
     "name": "stdout",
     "output_type": "stream",
     "text": [
      "[['SR Tendulkar' '6']\n",
      " ['SR Tendulkar' '6']\n",
      " ['JP Duminy' '6']\n",
      " ['JP Duminy' '6']\n",
      " ['JP Duminy' '6']\n",
      " ['JP Duminy' '6']\n",
      " ['BJ Hodge' '6']\n",
      " ['BJ Hodge' '6']\n",
      " ['BJ Hodge' '6']\n",
      " ['SR Tendulkar' '6']\n",
      " ['SR Tendulkar' '6']\n",
      " ['ST Jayasuriya' '6']\n",
      " ['ST Jayasuriya' '6']\n",
      " ['SR Tendulkar' '6']\n",
      " ['ST Jayasuriya' '6']\n",
      " ['ST Jayasuriya' '6']\n",
      " ['SR Tendulkar' '6']\n",
      " ['Harbhajan Singh' '6']\n",
      " ['Harbhajan Singh' '6']\n",
      " ['CH Gayle' '6']\n",
      " ['SC Ganguly' '6']\n",
      " ['TL Suman' '6']\n",
      " ['TL Suman' '6']\n",
      " ['AC Gilchrist' '6']\n",
      " ['RG Sharma' '6']\n",
      " ['DR Smith' '6']\n",
      " ['Y Venugopal Rao' '6']\n",
      " ['PR Shah' '6']\n",
      " ['PR Shah' '6']\n",
      " ['RR Raje' '6']\n",
      " ['DR Smith' '6']\n",
      " ['DR Smith' '6']\n",
      " ['DR Smith' '6']\n",
      " ['SV Samson' '6']\n",
      " ['SV Samson' '6']\n",
      " ['SR Watson' '6']\n",
      " ['R Bhatia' '6']\n",
      " ['DS Kulkarni' '6']\n",
      " ['DS Kulkarni' '6']\n",
      " ['MEK Hussey' '6']\n",
      " ['M Vijay' '6']\n",
      " ['MS Dhoni' '6']\n",
      " ['S Badrinath' '6']\n",
      " ['JD Ryder' '6']\n",
      " ['M Manhas' '6']\n",
      " ['K Goel' '6']\n",
      " ['K Goel' '6']\n",
      " ['KC Sangakkara' '6']\n",
      " ['Yuvraj Singh' '6']\n",
      " ['Yuvraj Singh' '6']\n",
      " ['Yuvraj Singh' '6']\n",
      " ['IK Pathan' '6']\n",
      " ['Kamran Akmal' '6']\n",
      " ['SR Watson' '6']\n",
      " ['SR Watson' '6']\n",
      " ['SR Watson' '6']\n",
      " ['SR Watson' '6']\n",
      " ['SR Watson' '6']\n",
      " ['RA Jadeja' '6']]\n",
      "The batsman with the most no. of sixes are SR Tendulkar and SR Watson.\n"
     ]
    }
   ],
   "source": [
    "# An exercise to know who is the most aggresive player or maybe the scoring player \n",
    "batsman_and_runs = np.array(data_ipl[:,[13,16]])\n",
    "batsman_and_sixes = batsman_and_runs[batsman_and_runs[:,1] == \"6\"]\n",
    "print(batsman_and_sixes)\n",
    "list_of_batsman = list(batsman_and_sixes[:,0])\n",
    "\n",
    "max_no_of_sixes = []\n",
    "\n",
    "def compute_mode(numbers):\n",
    "    mode = 0\n",
    "    count = 0\n",
    "    maxcount = 0\n",
    "    for number in numbers:\n",
    "        count = numbers.count(number)\n",
    "        if count >= maxcount:\n",
    "            maxcount = count\n",
    "            mode = number\n",
    "            max_no_of_sixes.append(mode)\n",
    "            \n",
    "    \n",
    "            \n",
    "        \n",
    "compute_mode(list_of_batsman)\n",
    "\n",
    "max_no_of_sixes_unique = []\n",
    "\n",
    "for i in max_no_of_sixes:\n",
    "    if i not in max_no_of_sixes_unique:\n",
    "        max_no_of_sixes_unique.append(i)\n",
    "        \n",
    "print(\"The batsman with the most no. of sixes are {} and {}.\".format(*max_no_of_sixes_unique))\n",
    "        \n",
    "\n",
    "        \n",
    "\n",
    "\n"
   ]
  }
 ],
 "metadata": {
  "kernelspec": {
   "display_name": "Python 3",
   "language": "python",
   "name": "python3"
  },
  "language_info": {
   "codemirror_mode": {
    "name": "ipython",
    "version": 3
   },
   "file_extension": ".py",
   "mimetype": "text/x-python",
   "name": "python",
   "nbconvert_exporter": "python",
   "pygments_lexer": "ipython3",
   "version": "3.7.3"
  }
 },
 "nbformat": 4,
 "nbformat_minor": 2
}
