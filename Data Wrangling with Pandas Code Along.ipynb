{
 "cells": [
  {
   "cell_type": "markdown",
   "metadata": {},
   "source": [
    "# IPL Dataset Analysis\n",
    "\n",
    "## Problem Statement\n",
    "We want to know as to what happens during an IPL match which raises several questions in our mind with our limited knowledge about the game called cricket on which it is based. This analysis is done to know as which factors led one of the team to win and how does it matter."
   ]
  },
  {
   "cell_type": "markdown",
   "metadata": {},
   "source": [
    "## About the Dataset :\n",
    "The Indian Premier League (IPL) is a professional T20 cricket league in India contested during April-May of every year by teams representing Indian cities. It is the most-attended cricket league in the world and ranks sixth among all the sports leagues. It has teams with players from around the world and is very competitive and entertaining with a lot of close matches between teams.\n",
    "\n",
    "The IPL and other cricket related datasets are available at [cricsheet.org](https://cricsheet.org/%c2%a0(data). Feel free to visit the website and explore the data by yourself as exploring new sources of data is one of the interesting activities a data scientist gets to do.\n",
    "\n",
    "Snapshot of the data you will be working on:<br>\n",
    "<br>\n",
    "The dataset 136522 data points and 23 features<br>\n",
    "\n",
    "|Features|Description|\n",
    "|-----|-----|\n",
    "|match_code|Code pertaining to individual match|\n",
    "|date|Date of the match played|\n",
    "|city|City where the match was played|\n",
    "|venue|Stadium in that city where the match was played|\n",
    "|team1|team1|\n",
    "|team2|team2|\n",
    "|toss_winner|Who won the toss out of two teams|\n",
    "|toss_decision|toss decision taken by toss winner|\n",
    "|winner|Winner of that match between two teams|\n",
    "|win_type|How did the team won(by wickets or runs etc.)|\n",
    "|win_margin|difference with which the team won| \n",
    "|inning|inning type(1st or 2nd)|\n",
    "|delivery|ball delivery|\n",
    "|batting_team|current team on batting|\n",
    "|batsman|current batsman on strike|\n",
    "|non_striker|batsman on non-strike|\n",
    "|bowler|Current bowler|\n",
    "|runs|runs scored|\n",
    "|extras|extra run scored|\n",
    "|total|total run scored on that delivery including runs and extras|\n",
    "|extras_type|extra run scored by wides or no ball or legby|\n",
    "|player_out|player that got out|\n",
    "|wicket_kind|How did the player got out|\n",
    "|wicket_fielders|Fielder who caught out the player by catch|\n"
   ]
  },
  {
   "cell_type": "markdown",
   "metadata": {},
   "source": [
    "### Analyzing data using pandas module"
   ]
  },
  {
   "cell_type": "markdown",
   "metadata": {},
   "source": [
    "### Read the data using pandas module."
   ]
  },
  {
   "cell_type": "code",
   "execution_count": 1,
   "metadata": {},
   "outputs": [
    {
     "data": {
      "text/plain": [
       "(136522, 24)"
      ]
     },
     "execution_count": 1,
     "metadata": {},
     "output_type": "execute_result"
    }
   ],
   "source": [
    "import pandas as pd\n",
    "import numpy as np\n",
    "df_ipl = pd.read_csv('./data/ipl_dataset.csv')\n",
    "df_ipl.shape"
   ]
  },
  {
   "cell_type": "code",
   "execution_count": 2,
   "metadata": {},
   "outputs": [
    {
     "data": {
      "text/plain": [
       "577"
      ]
     },
     "execution_count": 2,
     "metadata": {},
     "output_type": "execute_result"
    }
   ],
   "source": [
    "len(df_ipl['match_code'].unique())\n",
    "\n",
    "# You can also use: \n",
    "#df_ipl['match_code'].nunique()"
   ]
  },
  {
   "cell_type": "markdown",
   "metadata": {},
   "source": [
    "### There are certain fixed cities all around the world where matches are held. Find the list of unique cities where matches were played "
   ]
  },
  {
   "cell_type": "code",
   "execution_count": 3,
   "metadata": {},
   "outputs": [
    {
     "name": "stdout",
     "output_type": "stream",
     "text": [
      "['East London' 'Port Elizabeth' 'Centurion' 'neutral_venue' 'Chennai'\n",
      " 'Jaipur' 'Kolkata' 'Delhi' 'Chandigarh' 'Hyderabad' 'Ranchi' 'Mumbai'\n",
      " 'Bangalore' 'Dharamsala' 'Pune' 'Rajkot' 'Durban' 'Cuttack' 'Cape Town'\n",
      " 'Ahmedabad' 'Johannesburg' 'Visakhapatnam' 'Abu Dhabi' 'Raipur' 'Kochi'\n",
      " 'Kimberley' 'Nagpur' 'Bloemfontein' 'Indore' 'Kanpur']\n"
     ]
    }
   ],
   "source": [
    "# Corrected as Venues to Cities\n",
    "city_unique = df_ipl[\"city\"].unique()\n",
    "print(city_unique)\n",
    "   "
   ]
  },
  {
   "cell_type": "markdown",
   "metadata": {},
   "source": [
    "### Find the columns which contains null values if any ?"
   ]
  },
  {
   "cell_type": "code",
   "execution_count": 4,
   "metadata": {},
   "outputs": [
    {
     "data": {
      "text/plain": [
       "match_code              0\n",
       "date                    0\n",
       "city                    0\n",
       "venue                   0\n",
       "team1                   0\n",
       "team2                   0\n",
       "toss_winner             0\n",
       "toss_decision           0\n",
       "winner               1818\n",
       "win_type             1818\n",
       "win_margin           1818\n",
       "inning                  0\n",
       "delivery                0\n",
       "batting_team            0\n",
       "batsman                 0\n",
       "non_striker             0\n",
       "bowler                  0\n",
       "runs                    0\n",
       "extras                  0\n",
       "total                   0\n",
       "extras_type        129064\n",
       "player_out         129807\n",
       "wicket_kind        129807\n",
       "wicket_fielders    131657\n",
       "dtype: int64"
      ]
     },
     "execution_count": 4,
     "metadata": {},
     "output_type": "execute_result"
    }
   ],
   "source": [
    "df_ipl.isnull().sum()"
   ]
  },
  {
   "cell_type": "markdown",
   "metadata": {},
   "source": [
    "### Though the match is held in different cities all around the world it may or maynot have multiple venues (stadiums where matches are held) list down top 5 most played venues \n"
   ]
  },
  {
   "cell_type": "code",
   "execution_count": 6,
   "metadata": {},
   "outputs": [
    {
     "name": "stdout",
     "output_type": "stream",
     "text": [
      "[M Chinnaswamy Stadium]              58\n",
      "[Eden Gardens]                       54\n",
      "[Feroz Shah Kotla]                   53\n",
      "[Wankhede Stadium]                   49\n",
      "[MA Chidambaram Stadium, Chepauk]    48\n",
      "Name: stadium, dtype: int64\n"
     ]
    }
   ],
   "source": [
    "venues = df_ipl.groupby([\"match_code\"])[\"venue\"].unique()\n",
    "unique_venues = venues.reset_index(name =\"stadium\")\n",
    "\n",
    "most_played_venues = unique_venues[\"stadium\"].value_counts().head()\n",
    "print(most_played_venues)"
   ]
  },
  {
   "cell_type": "markdown",
   "metadata": {},
   "source": [
    "### Make a runs vs run-count frequency table"
   ]
  },
  {
   "cell_type": "code",
   "execution_count": 10,
   "metadata": {},
   "outputs": [
    {
     "name": "stdout",
     "output_type": "stream",
     "text": [
      "0    55870\n",
      "1    50087\n",
      "4    15409\n",
      "2     8835\n",
      "6     5806\n",
      "3      473\n",
      "5       42\n",
      "Name: runs, dtype: int64\n"
     ]
    }
   ],
   "source": [
    "runs_frequency = df_ipl[\"runs\"].value_counts()\n",
    "print(runs_frequency)"
   ]
  },
  {
   "cell_type": "markdown",
   "metadata": {},
   "source": [
    "### IPL seasons are held every year now let's look at our data and extract how many seasons were recorded."
   ]
  },
  {
   "cell_type": "code",
   "execution_count": 9,
   "metadata": {
    "scrolled": true
   },
   "outputs": [
    {
     "name": "stdout",
     "output_type": "stream",
     "text": [
      "The number of season recorded is 9.\n"
     ]
    }
   ],
   "source": [
    "dates = pd.DatetimeIndex(df_ipl[\"date\"]).year.unique()\n",
    "len_date = len(dates)\n",
    "\n",
    "print(\"The number of season recorded is {}.\".format(len_date))"
   ]
  },
  {
   "cell_type": "markdown",
   "metadata": {},
   "source": [
    "### What are the total no. of matches played per season"
   ]
  },
  {
   "cell_type": "code",
   "execution_count": 8,
   "metadata": {},
   "outputs": [
    {
     "name": "stdout",
     "output_type": "stream",
     "text": [
      "seasons\n",
      "2008    58\n",
      "2009    57\n",
      "2010    60\n",
      "2011    73\n",
      "2012    74\n",
      "2013    76\n",
      "2014    60\n",
      "2015    59\n",
      "2016    60\n",
      "Name: match_code, dtype: int64\n"
     ]
    }
   ],
   "source": [
    "seasons = pd.DatetimeIndex(df_ipl[\"date\"]).year\n",
    "\n",
    "df_ipl[\"seasons\"] = seasons\n",
    "matches = df_ipl.groupby([\"seasons\"])[\"match_code\"].nunique()\n",
    "print(matches)"
   ]
  },
  {
   "cell_type": "markdown",
   "metadata": {},
   "source": [
    "### What are the total runs scored across each season "
   ]
  },
  {
   "cell_type": "code",
   "execution_count": 11,
   "metadata": {},
   "outputs": [
    {
     "name": "stdout",
     "output_type": "stream",
     "text": [
      "seasons\n",
      "2008    17936\n",
      "2009    16320\n",
      "2010    18862\n",
      "2011    21154\n",
      "2012    22451\n",
      "2013    22541\n",
      "2014    18909\n",
      "2015    18331\n",
      "2016    18862\n",
      "Name: total, dtype: int64\n"
     ]
    }
   ],
   "source": [
    "runs_season = df_ipl.groupby([\"seasons\"])[\"total\"].sum()\n",
    "print(runs_season)"
   ]
  },
  {
   "cell_type": "markdown",
   "metadata": {},
   "source": [
    "### There are teams which are high performing and low performing. Let's look at the aspect of performance of an individual team. Filter the data and aggregate the runs scored by each team. Display top 10 results which are having runs scored over 200."
   ]
  },
  {
   "cell_type": "code",
   "execution_count": 12,
   "metadata": {},
   "outputs": [
    {
     "name": "stdout",
     "output_type": "stream",
     "text": [
      "match_code  batting_team               \n",
      "598027      Royal Challengers Bangalore    263\n",
      "980987      Royal Challengers Bangalore    248\n",
      "419137      Chennai Super Kings            246\n",
      "335983      Chennai Super Kings            240\n",
      "829795      Royal Challengers Bangalore    235\n",
      "501260      Kings XI Punjab                232\n",
      "501223      Delhi Daredevils               231\n",
      "733987      Kings XI Punjab                231\n",
      "980907      Royal Challengers Bangalore    227\n",
      "829785      Royal Challengers Bangalore    226\n",
      "Name: total, dtype: int64\n"
     ]
    }
   ],
   "source": [
    "runs_per_match = df_ipl.groupby([\"match_code\", \"batting_team\"])[\"total\"].sum()\n",
    "over_200 = runs_per_match[runs_per_match > 200]\n",
    "\n",
    "top_10 = over_200.sort_values(ascending = False).head(10)\n",
    "print(top_10)"
   ]
  },
  {
   "cell_type": "raw",
   "metadata": {},
   "source": [
    "### Chasing a 200+ target is difficulty in T-20 format. What are the chances that a team scoring runs above 200  in their 1st inning is chased by the opposition in 2nd inning."
   ]
  },
  {
   "cell_type": "code",
   "execution_count": 14,
   "metadata": {},
   "outputs": [
    {
     "name": "stdout",
     "output_type": "stream",
     "text": [
      "The percentage of matches won by teams chasing 200 is 15.38.\n"
     ]
    }
   ],
   "source": [
    "runs_scored_match = df_ipl.groupby([\"match_code\", \"batting_team\", \"inning\", \"win_type\"])[\"total\"].sum()\n",
    "over_200_matches = runs_scored_match[runs_scored_match > 200]\n",
    "df_ipl200 = over_200_matches.reset_index(name = \"runs\")\n",
    "won_by_chasing_team = df_ipl200[(df_ipl200[\"inning\"] == 2) & (df_ipl200[\"win_type\"] == \"wickets\")]\n",
    "\n",
    "first_team_200 = df_ipl200[df_ipl200[\"inning\"] == 1]\n",
    "\n",
    "percentage_team_2 = round((len(won_by_chasing_team)/len(first_team_200))*100,2)\n",
    "\n",
    "print(\"The percentage of matches won by teams chasing 200 is {}.\".format(percentage_team_2))"
   ]
  },
  {
   "cell_type": "raw",
   "metadata": {},
   "source": [
    "# Every season has that one team which is outperforming others and is in great form. Which team has the highest win counts in their respective seasons ?"
   ]
  },
  {
   "cell_type": "code",
   "execution_count": 38,
   "metadata": {},
   "outputs": [
    {
     "name": "stdout",
     "output_type": "stream",
     "text": [
      "seasons\n",
      "2008         Rajasthan Royals\n",
      "2009         Delhi Daredevils\n",
      "2010           Mumbai Indians\n",
      "2011      Chennai Super Kings\n",
      "2012    Kolkata Knight Riders\n",
      "2013           Mumbai Indians\n",
      "2014          Kings XI Punjab\n",
      "2015      Chennai Super Kings\n",
      "2016      Sunrisers Hyderabad\n",
      "dtype: object\n"
     ]
    }
   ],
   "source": [
    "wins_by_team = df_ipl.groupby([\"match_code\", \"winner\", \"seasons\"]).size().reset_index(name = \"wins\")\n",
    "\n",
    "wins_by_team_by_season = wins_by_team.groupby([\"winner\", \"seasons\"]).size().reset_index(name = \"wins\")\n",
    "\n",
    "pivot_wins = pd.pivot_table(wins_by_team_by_season, index = [\"winner\"], columns = [\"seasons\"], values = \"wins\",\n",
    "                            aggfunc = \"sum\")\n",
    "\n",
    "most_wins = pivot_wins.idxmax()\n",
    "print(most_wins)\n",
    "\n"
   ]
  },
  {
   "cell_type": "code",
   "execution_count": null,
   "metadata": {},
   "outputs": [],
   "source": []
  }
 ],
 "metadata": {
  "kernelspec": {
   "display_name": "Python 3",
   "language": "python",
   "name": "python3"
  },
  "language_info": {
   "codemirror_mode": {
    "name": "ipython",
    "version": 3
   },
   "file_extension": ".py",
   "mimetype": "text/x-python",
   "name": "python",
   "nbconvert_exporter": "python",
   "pygments_lexer": "ipython3",
   "version": "3.7.3"
  }
 },
 "nbformat": 4,
 "nbformat_minor": 2
}
